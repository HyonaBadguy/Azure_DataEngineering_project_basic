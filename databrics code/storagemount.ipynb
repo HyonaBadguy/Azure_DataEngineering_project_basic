{
 "cells": [
  {
   "cell_type": "code",
   "execution_count": 0,
   "metadata": {
    "application/vnd.databricks.v1+cell": {
     "cellMetadata": {
      "byteLimit": 2048000,
      "rowLimit": 10000
     },
     "inputWidgets": {},
     "nuid": "2eeb1a3a-dd36-42f2-9b75-e13698aec3b6",
     "showTitle": false,
     "tableResultSettingsMap": {},
     "title": ""
    }
   },
   "outputs": [
    {
     "output_type": "execute_result",
     "data": {
      "text/plain": [
       "True"
      ]
     },
     "execution_count": 1,
     "metadata": {},
     "output_type": "execute_result"
    }
   ],
   "source": [
    "# [AUTENTICACIÒN CON TOKEN PERSONALIZADO] \n",
    "# ------------------------------------------------------------\n",
    "# Configuración segura para montar ADLS Gen2 usando credenciales de Azure Active Directory\n",
    "# ¡Reemplaza los valores entre { } según tu entorno!\n",
    "\n",
    "# Configura el proveedor de token personalizado (integrado con Databricks)\n",
    "configs = {\n",
    "  \"fs.azure.account.auth.type\": \"CustomAccessToken\",  # Método de autenticación para Databricks passthrough\n",
    "  \"fs.azure.account.custom.token.provider.class\": spark.conf.get(\"spark.databricks.passthrough.adls.gen2.tokenProviderClassName\")  \n",
    "  # Clase del proveedor automático de tokens (no modificar)\n",
    "}\n",
    "\n",
    "# [MONTAJE DE CONTENEDOR BRONZE]\n",
    "# ------------------------------------------------------------\n",
    "dbutils.fs.mount(\n",
    "  source=\"abfss://bronze@forestsg.dfs.core.windows.net/\",  # Formato: abfss://{nombre-contenedor}@{nombre-cuenta-almacenamiento}.dfs.core.windows.net/\n",
    "  mount_point=\"/mnt/bronze\",  # Ruta de montaje: /mnt/{nombre-directorio}\n",
    "  extra_configs=configs  # Configuración de autenticación previa\n",
    ")\n",
    "\n",
    "# ------------------------------------------------------------\n",
    "# [PARÁMETROS A MODIFICAR]\n",
    "# 1. {nombre-contenedor}: Contenedor ADLS (bronze/silver/gold)\n",
    "# 2. {nombre-cuenta-almacenamiento}: Nombre de tu Storage Account\n",
    "# 3. {nombre-directorio}: Directorio local en DBFS (debe existir en /mnt/)\n",
    "\n",
    "# [NOTAS DE SEGURIDAD]\n",
    "# - Este método usa credenciales de Azure AD vinculadas al workspace de Databricks\n",
    "# - Requiere permisos RBAC \"Storage Blob Data Contributor\" en el contenedor\n",
    "# - No expone claves de acceso directamente en el código\n",
    "\n",
    "# [COMANDOS ÚTILES]\n",
    "# - Verificar montaje: display(dbutils.fs.ls(\"/mnt/bronze\"))\n",
    "# - Desmontar contenedor: dbutils.fs.unmount(\"/mnt/bronze\")"
   ]
  },
  {
   "cell_type": "code",
   "execution_count": 0,
   "metadata": {
    "application/vnd.databricks.v1+cell": {
     "cellMetadata": {
      "byteLimit": 2048000,
      "rowLimit": 10000
     },
     "inputWidgets": {},
     "nuid": "d0c674bf-5110-4f40-9659-57c34a6f372c",
     "showTitle": false,
     "tableResultSettingsMap": {},
     "title": ""
    }
   },
   "outputs": [
    {
     "output_type": "execute_result",
     "data": {
      "text/plain": [
       "[FileInfo(path='dbfs:/mnt/bronze/SalesLT/Address/', name='Address/', size=0, modificationTime=1739481175000),\n",
       " FileInfo(path='dbfs:/mnt/bronze/SalesLT/Customer/', name='Customer/', size=0, modificationTime=1739481176000),\n",
       " FileInfo(path='dbfs:/mnt/bronze/SalesLT/CustomerAddress/', name='CustomerAddress/', size=0, modificationTime=1739481175000),\n",
       " FileInfo(path='dbfs:/mnt/bronze/SalesLT/Product/', name='Product/', size=0, modificationTime=1739481176000),\n",
       " FileInfo(path='dbfs:/mnt/bronze/SalesLT/ProductCategory/', name='ProductCategory/', size=0, modificationTime=1739481178000),\n",
       " FileInfo(path='dbfs:/mnt/bronze/SalesLT/ProductDescription/', name='ProductDescription/', size=0, modificationTime=1739481171000),\n",
       " FileInfo(path='dbfs:/mnt/bronze/SalesLT/ProductModel/', name='ProductModel/', size=0, modificationTime=1739481192000),\n",
       " FileInfo(path='dbfs:/mnt/bronze/SalesLT/ProductModelProductDescription/', name='ProductModelProductDescription/', size=0, modificationTime=1739481175000),\n",
       " FileInfo(path='dbfs:/mnt/bronze/SalesLT/SalesOrderDetail/', name='SalesOrderDetail/', size=0, modificationTime=1739481175000),\n",
       " FileInfo(path='dbfs:/mnt/bronze/SalesLT/SalesOrderHeader/', name='SalesOrderHeader/', size=0, modificationTime=1739481176000)]"
      ]
     },
     "execution_count": 2,
     "metadata": {},
     "output_type": "execute_result"
    }
   ],
   "source": [
    "# Solución: Verificar la existencia del path\n",
    "dbutils.fs.exists(\"/mnt/bronze/SalesLT\")  # Debe devolver True"
   ]
  },
  {
   "cell_type": "code",
   "execution_count": 0,
   "metadata": {
    "application/vnd.databricks.v1+cell": {
     "cellMetadata": {
      "byteLimit": 2048000,
      "rowLimit": 10000
     },
     "inputWidgets": {},
     "nuid": "07d14150-cf6d-4305-8f3c-928e5647be56",
     "showTitle": false,
     "tableResultSettingsMap": {},
     "title": ""
    }
   },
   "outputs": [
    {
     "output_type": "execute_result",
     "data": {
      "text/plain": [
       "True"
      ]
     },
     "execution_count": 5,
     "metadata": {},
     "output_type": "execute_result"
    }
   ],
   "source": [
    "# [DESCRIPCIÓN] Montar un contenedor de Azure Data Lake Storage (ADLS) en Databricks\n",
    "# ----------------------------------------------------------------------------------\n",
    "# - Este código conecta Databricks con ADLS para acceder a datos procesados (ej: capa Silver)\n",
    "# - ¡Reemplaza los valores específicos del entorno entre { } según tu configuración!\n",
    "\n",
    "dbutils.fs.mount(\n",
    "  source = \"abfss://silver@forestsg.dfs.core.windows.net/\",  # Formato: abfss://{nombre-contenedor}@{nombre-cuenta-almacenamiento}.dfs.core.windows.net/\n",
    "  mount_point = \"/mnt/silver\",  # Ruta local en Databricks: /mnt/{nombre-directorio-montaje}\n",
    "  extra_configs = configs  # Configuración de autenticación (detalles abajo)\n",
    ")\n",
    "\n",
    "# ----------------------------------------------------------------------------------\n",
    "# [PARÁMETROS A MODIFICAR]\n",
    "# 1. {nombre-contenedor}: Nombre del contenedor ADLS (ej: \"bronze\", \"silver\").\n",
    "# 2. {nombre-cuenta-almacenamiento}: Nombre de tu Storage Account en Azure.\n",
    "# 3. {nombre-directorio-montaje}: Directorio local en DBFS (debe empezar con \"/mnt/\").\n",
    "#\n",
    "# [NOTAS DE CONFIGURACIÓN]\n",
    "# - \"configs\" debe ser un diccionario con credenciales de autenticación. Ejemplo seguro:\n",
    "#   configs = {\"fs.azure.account.key.{nombre-cuenta-almacenamiento}.dfs.core.windows.net\": dbutils.secrets.get(scope=\"{key-vault-scope}\", key=\"{nombre-secreto}\")}\n",
    "# - Usa Azure Key Vault para almacenar claves (¡nunca codifiques credenciales directamente!).\n",
    "#\n",
    "# [COMANDOS ÚTILES]\n",
    "# - Verificar montaje: display(dbutils.fs.ls(\"/mnt/silver\"))\n",
    "# - Desmontar: dbutils.fs.unmount(\"/mnt/silver\")"
   ]
  },
  {
   "cell_type": "code",
   "execution_count": 0,
   "metadata": {
    "application/vnd.databricks.v1+cell": {
     "cellMetadata": {
      "byteLimit": 2048000,
      "rowLimit": 10000
     },
     "inputWidgets": {},
     "nuid": "8a10bdf4-dc64-4251-982f-35af6dbfb212",
     "showTitle": false,
     "tableResultSettingsMap": {},
     "title": ""
    }
   },
   "outputs": [
    {
     "output_type": "execute_result",
     "data": {
      "text/plain": [
       "True"
      ]
     },
     "execution_count": 4,
     "metadata": {},
     "output_type": "execute_result"
    }
   ],
   "source": [
    "# [DESCRIPCIÓN] Montar la capa Gold (datos procesados) desde ADLS Gen2\n",
    "# ----------------------------------------------------------------------\n",
    "# - Este código monta el contenedor Gold donde se almacenan datos listos para reporting\n",
    "# - ¡Reemplaza los valores entre { } según tu entorno!\n",
    "\n",
    "dbutils.fs.mount(\n",
    "  source = \"abfss://gold@forestsg.dfs.core.windows.net/\",  # Formato: abfss://{nombre-contenedor}@{nombre-cuenta-almacenamiento}.dfs.core.windows.net/\n",
    "  mount_point = \"/mnt/gold\",  # Ruta local en Databricks: /mnt/{nombre-directorio}\n",
    "  extra_configs = configs  # Configuración de autenticación (usando token AAD)\n",
    ")\n",
    "\n",
    "# ----------------------------------------------------------------------\n",
    "# [PARÁMETROS A MODIFICAR]\n",
    "# 1. {nombre-contenedor}: Nombre del contenedor ADLS (ej: \"gold\")\n",
    "# 2. {nombre-cuenta-almacenamiento}: Nombre de tu Storage Account en Azure\n",
    "# 3. {nombre-directorio}: Directorio local en DBFS (debe existir en /mnt/)\n",
    "\n",
    "# [NOTAS DE CONFIGURACIÓN]\n",
    "# - \"configs\" debe usar autenticación segura (recomendado: Azure AD Passthrough o Service Principal)\n",
    "# - Ejemplo de configuración con Service Principal:\n",
    "#   configs = {\"fs.azure.account.auth.type\": \"OAuth\",\n",
    "#              \"fs.azure.account.oauth.provider.type\": \"org.apache.hadoop.fs.azurebfs.oauth2.ClientCredsTokenProvider\",\n",
    "#              \"fs.azure.account.oauth2.client.id\": \"{client-id}\",\n",
    "#              \"fs.azure.account.oauth2.client.secret\": dbutils.secrets.get(scope=\"{key-vault-scope}\", key=\"{client-secret-key}\"),\n",
    "#              \"fs.azure.account.oauth2.client.endpoint\": \"https://login.microsoftonline.com/{tenant-id}/oauth2/token\"}\n",
    "\n",
    "# [COMANDOS ÚTILES]\n",
    "# - Verificar datos procesados: display(dbutils.fs.ls(\"/mnt/gold\"))\n",
    "# - Desmontar: dbutils.fs.unmount(\"/mnt/gold\")\n",
    "# - Verificar autenticación: dbutils.notebook.entry_point.getDbutils().notebook().getContext().apiToken().get()"
   ]
  }
 ],
 "metadata": {
  "application/vnd.databricks.v1+notebook": {
   "computePreferences": null,
   "dashboards": [],
   "environmentMetadata": {
    "base_environment": "",
    "environment_version": "2"
   },
   "language": "python",
   "notebookMetadata": {
    "pythonIndentUnit": 4
   },
   "notebookName": "storagemount",
   "widgets": {}
  },
  "language_info": {
   "name": "python"
  }
 },
 "nbformat": 4,
 "nbformat_minor": 0
}